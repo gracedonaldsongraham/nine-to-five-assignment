{
    "cells": [
        {
            "cell_type": "markdown",
            "metadata": {
                "azdata_cell_guid": "7ad962b3-fce2-439c-9ac4-460e1a79b0e8"
            },
            "source": [
                "# Graded Assignment 3: 9 to 5\n",
                "\n",
                "Time to show off your SQL skills! For each question, copy the SQL query you used and make note of the answer.\n",
                "\n",
                "## The Dataset\n",
                "\n",
                "For this assignment, you will be using the Bureau of Labor Statistics (BLS) Current Employment Survey (CES) results which can be found on [Kaggle](https://www.kaggle.com/datasets/bls/employment).\n",
                "\n",
                "## Business Issue\n",
                "\n",
                "You are working for the Bureau of Labor Statistics with the United States government and have been approached by your boss with an important meeting request. You have been asked by your supervisor to meet with Dolly Parton whose nonprofit is looking to shed light on the state of employment in the United States. As part of the 9 to 5 project, their research is focused on production and nonsupervisory employees and how those employees fare compared to all employees in the United States. While the data the BLS collects from the CES is publicly available, Dolly Parton and her colleagues need your assistance navigating the thousands of rows in each table in LaborStatisticsDB.\n",
                "\n",
                "## About the Dataset\n",
                "\n",
                "This dataset comes directly from the Bureau of Labor Statistics’ Current Employment Survey (CES). Here are some things you need to know:\n",
                "\n",
                "1. The industry table contains an NAICS code. This is different from the industry code. NAICS stands for North American Industry Classification System.\n",
                "1. Series ID is composed of multiple different codes. CES stands for Current Employment Survey, the name of the survey which collected the data. The industry code as specified by the BLS and the data type code as specified in the datatype table.\n",
                "\n",
                "## Set Up\n",
                "\n",
                "To connect to the database, use the same connection info used during the SQL lessons. \n",
                "\n",
                "For the assignment, we will be using `LaborStatisticsDB`."
            ]
        },
        {
            "cell_type": "markdown",
            "metadata": {
                "azdata_cell_guid": "dcbb5ae7-a9c8-4d48-8986-8a0f778cc6c6"
            },
            "source": [
                "## Database Exploration\n",
                "\n",
                "To start with, let’s get to know the database further.\n",
                "\n",
                "1. Use this space to make note of each table in the database, the columns within each table, each column’s data type, and how the tables are connected. You can write this down or draw a diagram. Whatever method helps you get an understanding of what is going on with `LaborStatisticsDB`.\n",
                "   \n",
                "   To add a photo, diagram or document to your file, drop the file into the folder that holds this notebook.  Use the link button to the right of the  </> symbol in the gray part of this cell, the link is just the name of your file."
            ]
        },
        {
            "cell_type": "code",
            "execution_count": null,
            "metadata": {
                "azdata_cell_guid": "adb853fc-e2ab-416a-89f0-eb1d6f5b4af8",
                "language": "sql"
            },
            "outputs": [],
            "source": [
                "SELECT *\n",
                "FROM LaborStatisticsDB.dbo.annual_2016\n",
                "/* \n",
                "annual_2016\n",
                "\n",
                "ID INT\n",
                "year INT\n",
                "period VARCHAR\n",
                "value INT\n",
                "footnote_codes VARCHAR\n",
                "original_file VARCHAR\n",
                "*/\n",
                "\n",
                "SELECT *\n",
                "FROM LaborStatisticsDB.dbo.datatype\n",
                "/*\n",
                "datatype\n",
                "\n",
                "data_type_code INT\n",
                "data_type_text VARCHAR\n",
                "*/\n",
                "\n",
                "SELECT *\n",
                "FROM LaborStatisticsDB.dbo.footnote\n",
                "/*\n",
                "footnote\n",
                "\n",
                "footnote_code VARCHAR\n",
                "footnote_text VARCHAR\n",
                "*/\n",
                "\n",
                "SELECT *\n",
                "FROM LaborStatisticsDB.dbo.industry\n",
                "/*\n",
                "industry \n",
                "\n",
                "id INT\n",
                "industry_code INT\n",
                "naics_code VARCHAR\n",
                "publishing_status VARCHAR\n",
                "industry_name VARCHAR\n",
                "display_level INT\n",
                "selectable VARCHAR \n",
                "sort_sequenceINT\n",
                "*/\n",
                "\n",
                "SELECT *\n",
                "FROM LaborStatisticsDB.dbo.january_2017\n",
                "/*\n",
                "january_2017\n",
                "\n",
                "id INT\n",
                "series_id VARCHAR\n",
                "year INT\n",
                "period VARCHAR\n",
                "value INT\n",
                "footnote_codes VARCHAR\n",
                "original_file VARCHAR\n",
                "*/\n",
                "\n",
                "SELECT *\n",
                "FROM LaborStatisticsDB.dbo.[period]\n",
                "/*\n",
                "period\n",
                "\n",
                "period_code VARCHAR\n",
                "month_abbr VARCHAR\n",
                "month VARCHAR\n",
                "*/\n",
                "\n",
                "SELECT *\n",
                "FROM LaborStatisticsDB.dbo.seasonal\n",
                "/*\n",
                "seasonal \n",
                "\n",
                "industry_code VARCHAR\n",
                "seasonal_text VARCHAR\n",
                "*/\n",
                "\n",
                "SELECT *\n",
                "FROM LaborStatisticsDB.dbo.series\n",
                "/* \n",
                "series\n",
                "\n",
                "series_id VARCHAR \n",
                "supersector_code INT\n",
                "industry_code INT\n",
                "data_type_code INT\n",
                "seasonal VARCHAR\n",
                "series_title VARCHAR\n",
                "*/\n",
                "\n",
                "SELECT *\n",
                "FROM LaborStatisticsDB.dbo.supersector\n",
                "/*\n",
                "supersector\n",
                "\n",
                "supersector_code INT\n",
                "supersector_name VARCHAR\n",
                "*/ "
            ]
        },
        {
            "cell_type": "markdown",
            "metadata": {
                "azdata_cell_guid": "87e95d63-f756-4afc-98d9-ed1dcfb95466"
            },
            "source": [
                "2. What is the datatype for women employees?"
            ]
        },
        {
            "cell_type": "code",
            "execution_count": null,
            "metadata": {
                "azdata_cell_guid": "e695b98b-25ed-4bec-8407-6f060e711df1",
                "language": "sql"
            },
            "outputs": [],
            "source": [
                "SELECT dt.data_type_code, dt.data_type_text\n",
                "FROM LaborStatisticsDB.dbo.datatype AS dt\n",
                "WHERE dt.data_type_text LIKE '%WOMEN%'\n",
                "\n",
                "/*\n",
                "Code: 10\tText: WOMEN EMPLOYEES\n",
                "Code: 39\tText: WOMEN EMPLOYEES-TO-ALL EMPLOYEES RATIO\n",
                "*/"
            ]
        },
        {
            "cell_type": "markdown",
            "metadata": {
                "azdata_cell_guid": "5e72355c-a069-483d-8e57-33c8244e54d3"
            },
            "source": [
                "3. What is the series id for  women employees in the commercial banking industry in the financial activities supersector?"
            ]
        },
        {
            "cell_type": "code",
            "execution_count": null,
            "metadata": {
                "azdata_cell_guid": "3ecf48c5-07bb-4063-aef5-96b4212f5150",
                "language": "sql"
            },
            "outputs": [],
            "source": [
                "SELECT s.series_id\n",
                "FROM LaborStatisticsDB.dbo.series AS s\n",
                "JOIN LaborStatisticsDB.dbo.datatype AS dt ON s.data_type_code = dt.data_type_code\n",
                "JOIN LaborStatisticsDB.dbo.industry AS i ON s.industry_code = i.industry_code\n",
                "JOIN LaborStatisticsDB.dbo.supersector AS ss ON s.supersector_code = ss.supersector_code\n",
                "WHERE \n",
                "    ss.supersector_name LIKE '%Financial Activities%'\n",
                "    AND i.industry_name LIKE '%Commercial banking%'\n",
                "    AND dt.data_type_text = 'WOMEN EMPLOYEES'\n",
                "\n",
                "-- The series ID is CES5552211010"
            ]
        },
        {
            "cell_type": "markdown",
            "metadata": {
                "azdata_cell_guid": "44ff5801-e75c-405f-bba2-e4f864356f0a"
            },
            "source": [
                "## Aggregate Your Friends and Code some SQL\n",
                "\n",
                "Put together the following:\n",
                "\n",
                "1. How many employees were reported in 2016 in all industries? Round to the nearest whole number."
            ]
        },
        {
            "cell_type": "code",
            "execution_count": null,
            "metadata": {
                "azdata_cell_guid": "2f2aa59f-b6c5-470f-9f72-8bc0ec5178ab",
                "language": "sql"
            },
            "outputs": [],
            "source": [
                "SELECT ROUND(SUM(ann.value),0)\n",
                "FROM LaborStatisticsDB.dbo.annual_2016 AS ann\n",
                "JOIN LaborStatisticsDB.dbo.series AS s ON s.series_id = ann.series_id\n",
                "JOIN LaborStatisticsDB.dbo.datatype AS dt ON dt.data_type_code = s.data_type_code\n",
                "WHERE dt.data_type_text LIKE 'ALL EMPLOYEES'\n",
                "-- ANSWER: 2340612"
            ]
        },
        {
            "cell_type": "markdown",
            "metadata": {
                "azdata_cell_guid": "29d32b99-da7f-4c98-b757-ff3704d136e8"
            },
            "source": [
                "2. How many women employees were reported in 2016 in all industries? Round to the nearest whole number. "
            ]
        },
        {
            "cell_type": "code",
            "execution_count": null,
            "metadata": {
                "azdata_cell_guid": "6e478ad7-1a7e-460c-8000-1e6c10373731",
                "language": "sql"
            },
            "outputs": [],
            "source": [
                "\n",
                "SELECT ROUND(SUM(ann.[value]),0)\n",
                "FROM LaborStatisticsDB.dbo.annual_2016 AS ann\n",
                "JOIN LaborStatisticsDB.dbo.series AS s ON s.series_id = ann.series_id\n",
                "JOIN LaborStatisticsDB.dbo.industry AS i ON i.industry_code = s.industry_code\n",
                "JOIN LaborStatisticsDB.dbo.datatype AS dt ON dt.data_type_code = s.data_type_code\n",
                "WHERE dt.data_type_text LIKE 'WOMEN EMPLOYEES'\n",
                "    AND i.industry_name IS NOT NULL\n",
                "-- ANSWER: 1093094"
            ]
        },
        {
            "cell_type": "markdown",
            "metadata": {
                "azdata_cell_guid": "6b173ff0-3ec9-45b1-b9c1-08351f9ae595"
            },
            "source": [
                "3. How many production/nonsupervisory employees were reported in 2016? Round to the nearest whole number. "
            ]
        },
        {
            "cell_type": "code",
            "execution_count": null,
            "metadata": {
                "azdata_cell_guid": "8532a572-5cd6-4d06-b770-c3f1c7c4e8b2",
                "language": "sql"
            },
            "outputs": [],
            "source": [
                "\n",
                "SELECT ROUND(SUM(ann.[value]),0)\n",
                "FROM LaborStatisticsDB.dbo.annual_2016 AS ann\n",
                "JOIN LaborStatisticsDB.dbo.series AS s ON s.series_id = ann.series_id\n",
                "JOIN LaborStatisticsDB.dbo.datatype AS dt ON dt.data_type_code = s.data_type_code\n",
                "WHERE dt.data_type_text LIKE 'PRODUCTION AND NONSUPERVISORY EMPLOYEES'\n",
                "-- 1263650"
            ]
        },
        {
            "cell_type": "markdown",
            "metadata": {
                "azdata_cell_guid": "f0e5cd3c-1e07-4718-858f-026045a0a438"
            },
            "source": [
                "4. In January 2017, what is the average weekly hours worked by production and nonsupervisory employees across all industries?"
            ]
        },
        {
            "cell_type": "code",
            "execution_count": null,
            "metadata": {
                "azdata_cell_guid": "ed56d1e6-8622-4b43-923f-6892977b3409",
                "language": "sql"
            },
            "outputs": [],
            "source": [
                "SELECT ROUND(AVG(jan.VALUE),0)\n",
                "FROM LaborStatisticsDB.dbo.january_2017 AS jan\n",
                "JOIN LaborStatisticsDB.dbo.series AS s ON s.series_id = jan.series_id\n",
                "WHERE s.series_title LIKE '%Average weekly hours of production and nonsupervisory employees%'\n",
                "\n",
                "-- Average weekly hours: 36"
            ]
        },
        {
            "cell_type": "markdown",
            "metadata": {
                "azdata_cell_guid": "8b6d0663-d4c3-4420-99ed-1c99f1d1942c"
            },
            "source": [
                "5. What is the total weekly payroll for production and nonsupervisory employees across all industries in January 2017? Round to the nearest penny."
            ]
        },
        {
            "cell_type": "code",
            "execution_count": null,
            "metadata": {
                "azdata_cell_guid": "aba326a4-ea96-472e-9b4d-fff929aedc13",
                "language": "sql"
            },
            "outputs": [],
            "source": [
                "SELECT SUM(jan.[value])\n",
                "FROM LaborStatisticsDB.dbo.january_2017 AS jan \n",
                "JOIN LaborStatisticsDB.dbo.series AS s ON s.series_id = jan.series_id\n",
                "JOIN LaborStatisticsDB.dbo.industry AS i ON i.industry_code = s.industry_code\n",
                "JOIN LaborStatisticsDB.dbo.datatype AS dt ON dt.data_type_code = s.data_type_code\n",
                "WHERE dt.data_type_code = 82\n",
                "    AND i.industry_name IS NOT NULL\n",
                "-- less confident in this one! but I got the answer: 1769253164"
            ]
        },
        {
            "cell_type": "markdown",
            "metadata": {
                "azdata_cell_guid": "cdc4508a-a76c-4e36-a816-3c26ef47e710"
            },
            "source": [
                "6. In January 2017, for which industry was the average weekly hours worked by production and nonsupervisory employees the highest? Which industry was the lowest?"
            ]
        },
        {
            "cell_type": "code",
            "execution_count": null,
            "metadata": {
                "azdata_cell_guid": "a6758e01-7ca6-43af-b8b8-04b8120c8a49",
                "language": "sql"
            },
            "outputs": [],
            "source": [
                "SELECT jan.[value], dt.data_type_text, i.industry_name\n",
                "FROM LaborStatisticsDB.dbo.industry AS i \n",
                "JOIN LaborStatisticsDB.dbo.series AS s ON s.industry_code = i.industry_code\n",
                "JOIN LaborStatisticsDB.dbo.datatype AS dt ON dt.data_type_code = s.data_type_code\n",
                "JOIN LaborStatisticsDB.dbo.january_2017 AS jan ON jan.series_id = s.series_id\n",
                "WHERE dt.data_type_text LIKE 'AVERAGE WEEKLY HOURS OF PRODUCTION AND NONSUPERVISORY EMPLOYEES'\n",
                "ORDER BY jan.[value] DESC\n",
                "-- ANSWER: The highest - Motor vehicle power train components\n",
                "\n",
                "SELECT jan.[value], dt.data_type_text, i.industry_name\n",
                "FROM LaborStatisticsDB.dbo.industry AS i \n",
                "JOIN LaborStatisticsDB.dbo.series AS s ON s.industry_code = i.industry_code\n",
                "JOIN LaborStatisticsDB.dbo.datatype AS dt ON dt.data_type_code = s.data_type_code\n",
                "JOIN LaborStatisticsDB.dbo.january_2017 AS jan ON jan.series_id = s.series_id\n",
                "WHERE dt.data_type_text LIKE 'AVERAGE WEEKLY HOURS OF PRODUCTION AND NONSUPERVISORY EMPLOYEES'\n",
                "ORDER BY jan.[value] ASC\n",
                "-- ANSWER: The lowest - Fitness and recreational sports centers"
            ]
        },
        {
            "cell_type": "markdown",
            "metadata": {
                "azdata_cell_guid": "328915a2-60d5-4c87-b6c2-8e55fab39af3"
            },
            "source": [
                "7. In January 2021, for which industry was the total weekly payroll for production and nonsupervisory employees the highest? Which industry was the lowest?"
            ]
        },
        {
            "cell_type": "code",
            "execution_count": null,
            "metadata": {
                "azdata_cell_guid": "f3985220-b4b7-46f3-ba1a-e041a87be58b",
                "language": "sql"
            },
            "outputs": [],
            "source": [
                "SELECT jan.[value], dt.data_type_text, i.industry_name\n",
                "FROM LaborStatisticsDB.dbo.industry AS i \n",
                "JOIN LaborStatisticsDB.dbo.series AS s ON s.industry_code = i.industry_code\n",
                "JOIN LaborStatisticsDB.dbo.datatype AS dt ON dt.data_type_code = s.data_type_code\n",
                "JOIN LaborStatisticsDB.dbo.january_2017 AS jan ON jan.series_id = s.series_id\n",
                "WHERE dt.data_type_text LIKE 'AGGREGATE WEEKLY PAYROLLS OF PRODUCTION AND NONSUPERVISORY EMPLOYEES'\n",
                "    AND i.industry_name IS NOT NULL\n",
                "ORDER BY jan.[value] DESC\n",
                "-- ANSWER: The highest - Total Private (Private service-providing)\n",
                "\n",
                "SELECT jan.[value], dt.data_type_text, i.industry_name\n",
                "FROM LaborStatisticsDB.dbo.industry AS i \n",
                "JOIN LaborStatisticsDB.dbo.series AS s ON s.industry_code = i.industry_code\n",
                "JOIN LaborStatisticsDB.dbo.datatype AS dt ON dt.data_type_code = s.data_type_code\n",
                "JOIN LaborStatisticsDB.dbo.january_2017 AS jan ON jan.series_id = s.series_id\n",
                "WHERE dt.data_type_text LIKE 'AGGREGATE WEEKLY PAYROLLS OF PRODUCTION AND NONSUPERVISORY EMPLOYEES'\n",
                "    AND i.industry_name IS NOT NULL\n",
                "ORDER BY jan.[value] ASC\n",
                "-- Answer: The lowest - Coin-operated laundries and drycleaners"
            ]
        },
        {
            "cell_type": "markdown",
            "metadata": {
                "azdata_cell_guid": "9c5c9cb4-4376-4645-bf52-c359bad1853e"
            },
            "source": [
                "## Join in on the Fun\n",
                "\n",
                "Time to start joining! You can choose the type of join you use, just make sure to make a  note!\n",
                "\n",
                "1. Join `annual_2016` with `series` on `series_id`. We only want the data in the `annual_2016` table to be included in the result."
            ]
        },
        {
            "cell_type": "code",
            "execution_count": null,
            "metadata": {
                "azdata_cell_guid": "6c1fad5a-9af5-4ebe-b7bf-eb611688cb14",
                "language": "sql"
            },
            "outputs": [
                {
                    "data": {
                        "text/html": [
                            "Commands completed successfully."
                        ]
                    },
                    "metadata": {},
                    "output_type": "display_data"
                },
                {
                    "data": {
                        "text/html": [
                            "Total execution time: 00:00:00.019"
                        ]
                    },
                    "metadata": {},
                    "output_type": "display_data"
                }
            ],
            "source": [
                "-- Limiting rows returned from query, uncomment the line below to start on your query!\n",
                "SELECT TOP 50 *\n",
                "FROM LaborStatisticsDB.dbo.annual_2016 AS ann \n",
                "JOIN LaborStatisticsDB.dbo.series AS s ON s.series_id = ann.series_id\n",
                "\n",
                "\n",
                "-- Uncomment the line below when you are ready to run the query, leaving it as your last!\n",
                "SELECT TOP 50 *\n",
                "FROM LaborStatisticsDB.dbo.annual_2016 AS ann \n",
                "JOIN LaborStatisticsDB.dbo.series AS s ON s.series_id = ann.series_id\n",
                "ORDER BY id"
            ]
        },
        {
            "cell_type": "markdown",
            "metadata": {
                "azdata_cell_guid": "f0eefde2-fd6e-4cef-9426-3979c59ac61e"
            },
            "source": [
                "2. Join `series` and `datatype` on `data_type_code`."
            ]
        },
        {
            "cell_type": "code",
            "execution_count": null,
            "metadata": {
                "azdata_cell_guid": "0850cbeb-06f8-4b15-9f87-7a9ca7a87e91",
                "language": "sql"
            },
            "outputs": [],
            "source": [
                "-- Limiting rows returned from query, uncomment the line below to start on your query!\n",
                "SELECT TOP 50 *\n",
                "FROM LaborStatisticsDB.dbo.series AS s  \n",
                "JOIN LaborStatisticsDB.dbo.datatype AS dt ON dt.data_type_code = s.data_type_code\n",
                "\n",
                "-- Uncomment the line below when you are ready to run the query, leaving it as your last!\n",
                "SELECT TOP 50 *\n",
                "FROM LaborStatisticsDB.dbo.series AS s  \n",
                "JOIN LaborStatisticsDB.dbo.datatype AS dt ON dt.data_type_code = s.data_type_code\n",
                "ORDER BY s.series_id"
            ]
        },
        {
            "cell_type": "markdown",
            "metadata": {
                "azdata_cell_guid": "ada4ecfc-8180-4951-b013-1b4ad14bb2a9"
            },
            "source": [
                "3. Join `series` and `industry` on `industry_code`."
            ]
        },
        {
            "cell_type": "code",
            "execution_count": null,
            "metadata": {
                "azdata_cell_guid": "4eaf2035-ec13-4c15-960f-a40fe73dc34d",
                "language": "sql"
            },
            "outputs": [],
            "source": [
                "-- Limiting rows returned from query, uncomment the line below to start on your query!\n",
                "SELECT TOP 50 *\n",
                "FROM LaborStatisticsDB.dbo.series AS s  \n",
                "JOIN LaborStatisticsDB.dbo.industry AS i ON i.industry_code = s.industry_code\n",
                "\n",
                "\n",
                "-- Uncomment the line below when you are ready to run the query, leaving it as your last!\n",
                "SELECT TOP 50 *\n",
                "FROM LaborStatisticsDB.dbo.series AS s  \n",
                "JOIN LaborStatisticsDB.dbo.industry AS i ON i.industry_code = s.industry_code\n",
                "ORDER BY i.id"
            ]
        },
        {
            "cell_type": "markdown",
            "metadata": {
                "azdata_cell_guid": "7111eeba-9ab9-45b9-a4c5-09b809c63907"
            },
            "source": [
                "## Subqueries, Unions, Derived Tables, Oh My!\n",
                "\n",
                "1. Write a query that returns the `series_id`, `industry_code`, `industry_name`, and `value` from the `january_2017` table but only if that value is greater than the average value for `annual_2016` of `data_type_code` 82."
            ]
        },
        {
            "cell_type": "code",
            "execution_count": null,
            "metadata": {
                "azdata_cell_guid": "b747aa95-d3d7-4843-9f1a-13aae6902e3a",
                "language": "sql"
            },
            "outputs": [],
            "source": [
                "WITH one AS (\n",
                "    SELECT jan.series_id, i.industry_code, i.industry_name, jan.[value]\n",
                "    FROM LaborStatisticsDB.dbo.january_2017 AS jan\n",
                "    JOIN LaborStatisticsDB.dbo.industry AS i ON i.id = jan.id\n",
                "), \n",
                "two AS (\n",
                "    SELECT ROUND(AVG(ann.[value]), 0) AS annual_average\n",
                "    FROM LaborStatisticsDB.dbo.annual_2016 AS ann\n",
                "    JOIN LaborStatisticsDB.dbo.series AS s2 ON s2.series_id = ann.series_id\n",
                "    JOIN LaborStatisticsDB.dbo.datatype AS dt2 ON dt2.data_type_code = s2.data_type_code\n",
                "    WHERE dt2.data_type_code = 82\n",
                ")\n",
                "SELECT one.series_id, one.industry_code, one.industry_name, one.[value]\n",
                "FROM one\n",
                "WHERE one.[value] > (SELECT annual_average FROM two)"
            ]
        },
        {
            "attachments": {},
            "cell_type": "markdown",
            "metadata": {
                "azdata_cell_guid": "21baa05a-e30c-4993-a63e-1e221bb27aa6",
                "language": "sql"
            },
            "source": [
                "**Optional Bonus Question:** Write the above query as a common table expression!"
            ]
        },
        {
            "cell_type": "code",
            "execution_count": null,
            "metadata": {
                "azdata_cell_guid": "a816a7e7-2175-446c-b4e4-4a3d6667d281",
                "language": "sql"
            },
            "outputs": [],
            "source": [
                "-- Optional CTE below\n",
                "-- WHoops! Already did that! \n",
                "WITH one AS (\n",
                "    SELECT jan.series_id, i.industry_code, i.industry_name, jan.[value]\n",
                "    FROM LaborStatisticsDB.dbo.january_2017 AS jan\n",
                "    JOIN LaborStatisticsDB.dbo.industry AS i ON i.id = jan.id\n",
                "), \n",
                "two AS (\n",
                "    SELECT ROUND(AVG(ann.[value]), 0) AS annual_average\n",
                "    FROM LaborStatisticsDB.dbo.annual_2016 AS ann\n",
                "    JOIN LaborStatisticsDB.dbo.series AS s2 ON s2.series_id = ann.series_id\n",
                "    JOIN LaborStatisticsDB.dbo.datatype AS dt2 ON dt2.data_type_code = s2.data_type_code\n",
                "    WHERE dt2.data_type_code = 82\n",
                ")\n",
                "SELECT one.series_id, one.industry_code, one.industry_name, one.[value]\n",
                "FROM one\n",
                "WHERE one.[value] > (SELECT annual_average FROM two)"
            ]
        },
        {
            "cell_type": "markdown",
            "metadata": {
                "azdata_cell_guid": "661cb463-cf71-40cb-9d03-9bb37492e2d5"
            },
            "source": [
                "2. Create a `Union` table comparing average weekly earnings of production and nonsupervisory employees between `annual_2016` and `january_2017` using the data type 30.  Round to the nearest penny.  You should have a column for the average earnings and a column for the year, and the period."
            ]
        },
        {
            "cell_type": "code",
            "execution_count": null,
            "metadata": {
                "azdata_cell_guid": "327f3949-b20f-4c1e-a126-6005719bf8df",
                "language": "sql"
            },
            "outputs": [],
            "source": [
                "SELECT ROUND(ann.[value],2), ann.[year], ann.[period] FROM LaborStatisticsDB.dbo.annual_2016 AS ann\n",
                "UNION\n",
                "SELECT jan.[value], jan.[year], jan.[period] FROM LaborStatisticsDB.dbo.january_2017 AS jan \n",
                "JOIN LaborStatisticsDB.dbo.series AS s ON s.series_id = jan.series_id\n",
                "JOIN LaborStatisticsDB.dbo.datatype AS dt ON dt.data_type_code = s.data_type_code\n",
                "WHERE dt.data_type_code = 30\n"
            ]
        },
        {
            "cell_type": "markdown",
            "metadata": {
                "azdata_cell_guid": "cbda1089-6fdf-4b89-9651-54862cf7eb08"
            },
            "source": [
                "## Summarize Your Results\n",
                "\n",
                "With what you know now about the  Bureau of Labor Statistics (BLS) Current Employment Survey (CES) results and working with the Labor Statistics Database, answer the following questions. Note that while this is subjective, you should include relevant data to back up your opinion.\n",
                "\n",
                "1. During which time period did production and nonsupervisory employees fare better?"
            ]
        },
        {
            "cell_type": "markdown",
            "metadata": {
                "azdata_cell_guid": "ed5db53d-2fec-41a3-a9d3-367a676e6c02"
            },
            "source": [
                "Production and nonsupervisory employees fared better in 2017. From 2016 to 2017, on average hourly earnings, weekly earnings, and weekly hours stayed the same. However, for production and non-supervisory employees, hourly earnings increased by $2 (approximately 13%). \n",
                "\n",
                "All amployees for 2016:\n",
                "\n",
                "SELECT ROUND(AVG(ann.[value]), 0), s.series_title\n",
                "FROM LaborStatisticsDB.dbo.annual_2016 AS ann \n",
                "JOIN LaborStatisticsDB.dbo.series AS s ON s.series_id = ann.series_id\n",
                "JOIN LaborStatisticsDB.dbo.[period] AS p ON p.period_code = ann.[period] \n",
                "WHERE s.series_title IN ( \n",
                "    SELECT DISTINCT s.series_title\n",
                "    FROM LaborStatisticsDB.dbo.series AS s\n",
                "    INTERSECT\n",
                "    SELECT DISTINCT dt.data_type_text\n",
                "    FROM LaborStatisticsDB.dbo.datatype AS dt\n",
                "    WHERE s.series_title LIKE '%ALL EMPLOYEES%')\n",
                "GROUP BY s.series_title\n",
                "ORDER BY s.series_title ASC\n",
                "-- Average of average hourly earnings 17\n",
                "-- Average of average weekly earnings 619\n",
                "-- Average of average weekly hours 36\n",
                "\n",
                "Productiona and nonsupervisory employees for 2016:\n",
                "\n",
                "SELECT ROUND(AVG(ann.[value]),0), s.series_title\n",
                "FROM LaborStatisticsDB.dbo.annual_2016 AS ann \n",
                "JOIN LaborStatisticsDB.dbo.series AS s ON s.series_id = ann.series_id\n",
                "JOIN LaborStatisticsDB.dbo.[period] AS p ON p.period_code = ann.[period] \n",
                "WHERE s.series_title IN ( \n",
                "    SELECT DISTINCT s.series_title\n",
                "    FROM LaborStatisticsDB.dbo.series AS s\n",
                "    INTERSECT\n",
                "    SELECT DISTINCT dt.data_type_text\n",
                "    FROM LaborStatisticsDB.dbo.datatype AS dt\n",
                "    WHERE s.series_title LIKE '%Production and nonsupervisory employees%')\n",
                "GROUP BY s.series_title \n",
                "\n",
                "-- Average hourly earnings 15\n",
                "-- Average weekly earnings 523\n",
                "-- Average weekly hours 36\n",
                "\n",
                "All employees for 2017:\n",
                "\n",
                "SELECT ROUND(AVG(jan.[value]), 0), s.series_title\n",
                "FROM LaborStatisticsDB.dbo.january_2017 AS jan   \n",
                "JOIN LaborStatisticsDB.dbo.series AS s ON s.series_id = jan.series_id\n",
                "WHERE s.series_title IN (\n",
                "        SELECT DISTINCT s.series_title\n",
                "        FROM LaborStatisticsDB.dbo.series AS s    \n",
                "        INTERSECT \n",
                "        SELECT DISTINCT dt.data_type_text\n",
                "        FROM LaborStatisticsDB.dbo.datatype AS dt\n",
                "        WHERE s.series_title LIKE '%ALL EMPLOYEES%'\n",
                ")\n",
                "GROUP BY s.series_title\n",
                "ORDER BY s.series_title ASC\n",
                "\n",
                "-- Average hourly earnings 17\n",
                "-- Average weekly earnings 629\n",
                "-- Average weekly hours 36\n",
                "\n",
                "\n",
                "Production and nonsupervisory roles for 2017:\n",
                "SELECT ROUND(AVG(jan.VALUE), 0), s.series_title, \n",
                "FROM LaborStatisticsDB.dbo.january_2017 AS jan   \n",
                "JOIN LaborStatisticsDB.dbo.series AS s ON s.series_id = jan.series_id\n",
                "WHERE s.series_title IN (\n",
                "        SELECT DISTINCT s.series_title\n",
                "        FROM LaborStatisticsDB.dbo.series AS s    \n",
                "        INTERSECT \n",
                "        SELECT DISTINCT dt.data_type_text\n",
                "        FROM LaborStatisticsDB.dbo.datatype AS dt\n",
                "        WHERE s.series_title LIKE '%PRODUCTION AND NONSUPERVISORY EMPLOYEES%'\n",
                ")\n",
                "GROUP BY s.series_title\n",
                "ORDER BY s.series_title ASC\n",
                "\n",
                "/*\n",
                "-- Average hourly earnings 15\n",
                "-- Average weekly earnings 528\n",
                "-- Average weekly hours 36\n",
                "\n",
                "2016 all employees : 2017 all employees\n",
                "average of average hourly earnings | 17 : 17\n",
                "average of average weekly earnings | 619 : 629\n",
                "average of average weekly hours | 36 : 36\n",
                "\n",
                "\n",
                "2016 production and nonsupervisory employees : 2017 production and nonsupervisory employees\n",
                "average of average hourly earnings | 15 : 17\n",
                "average of average weekly earnings | 523 : 528\n",
                "average of average weekly hours | 36 : 36\n",
                "\n",
                "\n",
                "2016 all employees : 2016 production and nonsupervisory employees \n",
                "average of average hourly earnings | 17 : 15\n",
                "average of average weekly earnings | 619 : 523\n",
                "average of average weekly hours | 36 : 36\n",
                "\n",
                "\n",
                "2017 all employees : 2017 production and nonsupervisory employees \n",
                "average of average hourly earnings | 17 : 15\n",
                "average of average weekly earnings | 629 : 528\n",
                "average of average weekly hours | 36 : 36\n",
                "*/\n"
            ]
        },
        {
            "cell_type": "markdown",
            "metadata": {
                "azdata_cell_guid": "e0028946-9a7f-48ba-a14d-6685d55e9423"
            },
            "source": [
                "2. In which industries did production and nonsupervisory employees fare better?"
            ]
        },
        {
            "cell_type": "markdown",
            "metadata": {
                "azdata_cell_guid": "d1fc3b34-cee3-4565-8233-fbb225573974"
            },
            "source": [
                "WITH pan AS(\n",
                "    SELECT \n",
                "        i.industry_name,\n",
                "        AVG(an.[value]) AS pan_avg\n",
                "    FROM LaborStatisticsDB.dbo.annual_2016 AS an   \n",
                "    JOIN LaborStatisticsDB.dbo.series AS s ON s.series_id = an.series_id\n",
                "    JOIN LaborStatisticsDB.dbo.industry AS i ON i.industry_code = s.industry_code\n",
                "    WHERE s.series_title LIKE '%PRODUCTION AND NONSUPERVISORY%'\n",
                "        AND i.industry_name IS NOT NULL\n",
                "    GROUP BY i.industry_name\n",
                "),\n",
                "ae AS(\n",
                "    SELECT \n",
                "        i.industry_name,\n",
                "        AVG(an.[value]) AS ae_avg\n",
                "    FROM LaborStatisticsDB.dbo.annual_2016 AS an   \n",
                "    JOIN LaborStatisticsDB.dbo.series AS s ON s.series_id = an.series_id\n",
                "    JOIN LaborStatisticsDB.dbo.industry AS i ON i.industry_code = s.industry_code\n",
                "    WHERE s.series_title LIKE '%ALL EMPLOYEES%'\n",
                "        AND i.industry_name IS NOT NULL\n",
                "    GROUP BY i.industry_name\n",
                ")\n",
                "    SELECT pan.industry_name\n",
                "    FROM pan\n",
                "    JOIN ae ON ae.industry_name = pan.industry_name\n",
                "    WHERE pan_avg > ae_avg\n",
                "Production and nonsupervisory employees did better on average in motor vehicle power train components than all employees in 2016 \n",
                "\n",
                "WITH pan AS(\n",
                "    SELECT \n",
                "        i.industry_name,\n",
                "        AVG(jan.[value]) AS pan_avg\n",
                "    FROM LaborStatisticsDB.dbo.january_2017 AS jan  \n",
                "    JOIN LaborStatisticsDB.dbo.series AS s ON s.series_id = jan.series_id\n",
                "    JOIN LaborStatisticsDB.dbo.industry AS i ON i.industry_code = s.industry_code\n",
                "    WHERE s.series_title LIKE '%PRODUCTION AND NONSUPERVISORY%'\n",
                "        AND i.industry_name IS NOT NULL\n",
                "    GROUP BY i.industry_name\n",
                "),\n",
                "ae AS(\n",
                "    SELECT \n",
                "        i.industry_name,\n",
                "        AVG(jan.[value]) AS ae_avg\n",
                "    FROM LaborStatisticsDB.dbo.january_2017 AS jan  \n",
                "    JOIN LaborStatisticsDB.dbo.series AS s ON s.series_id = jan.series_id\n",
                "    JOIN LaborStatisticsDB.dbo.industry AS i ON i.industry_code = s.industry_code\n",
                "    WHERE s.series_title LIKE '%ALL EMPLOYEES%'\n",
                "        AND i.industry_name IS NOT NULL\n",
                "    GROUP BY i.industry_name\n",
                ")\n",
                "    SELECT pan.industry_name\n",
                "    FROM pan\n",
                "    JOIN ae ON ae.industry_name = pan.industry_name\n",
                "    WHERE pan_avg > ae_avg\n",
                "\n",
                "\n",
                "Production and nonsupervisory employees did better on average in motor vehicle power train components AND upholstered housefold furniture than all employees in 2017 "
            ]
        },
        {
            "cell_type": "markdown",
            "metadata": {
                "azdata_cell_guid": "0db4c4b1-151b-43f8-9a7a-14d45e15a678"
            },
            "source": [
                "3. Now that you have explored the datasets, is there any data or information that you wish you had in this analysis?"
            ]
        },
        {
            "cell_type": "markdown",
            "metadata": {
                "azdata_cell_guid": "072f17a7-ad63-493a-934f-33660ae1d576"
            },
            "source": [
                "I was discussing this in Slack with a co-learner, but having the average aggregate values would have been helpful, particularly with question 1. I ended up calculating averages of averages which I know it not the cleanest, most optimal summary or representation of data. We had an aggregate (which I interpreted as the sum, aggregating all the values together) for certain values for employees, like hourly and weekly pay, and we had an average, but if there was an aggregate of all the averages I think that would have painted a much more clear and accurate picture. "
            ]
        }
    ],
    "metadata": {
        "kernelspec": {
            "display_name": "SQL",
            "language": "sql",
            "name": "SQL"
        },
        "language_info": {
            "name": "sql",
            "version": ""
        }
    },
    "nbformat": 4,
    "nbformat_minor": 2
}
